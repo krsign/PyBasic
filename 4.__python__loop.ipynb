{
 "cells": [
  {
   "cell_type": "markdown",
   "metadata": {},
   "source": [
    "####  TYPES OF LOOPS IN PYTHON:\n",
    "\n",
    "    1. for loop\n",
    "    2. while loop"
   ]
  },
  {
   "cell_type": "markdown",
   "metadata": {},
   "source": [
    "#### CONDTITIONALS:\n",
    "        1. if\n",
    "        2. elif\n",
    "        3. else"
   ]
  },
  {
   "cell_type": "markdown",
   "metadata": {},
   "source": [
    "### PROBLEMS ON CONDITIONAL AND LOOPS"
   ]
  },
  {
   "cell_type": "code",
   "execution_count": 4,
   "metadata": {},
   "outputs": [
    {
     "name": "stdout",
     "output_type": "stream",
     "text": [
      "1505, 1540, 1575, 1610, 1645, 1680, 1715, 1750, 1785, 1820, 1855, 1890, 1925, 1960, 1995, 2030, 2065, 2100, 2135, 2170, 2205, 2240, 2275, 2310, 2345, 2380, 2415, 2450, 2485, 2520, 2555, 2590, 2625, 2660, 2695, "
     ]
    }
   ],
   "source": [
    "#  find those numbers which are divisible by 7 and multiple of 5, between 1500 and 2700 (both included)\n",
    "\n",
    "for n in range(1500, 2701):\n",
    "    if (n % 5 == 0) and (n % 7 == 0):\n",
    "        print(n, end=', ')"
   ]
  },
  {
   "cell_type": "markdown",
   "metadata": {},
   "source": [
    "## construct the following pattern, using a nested for loop.\n",
    "\n",
    "    * \n",
    "    * * \n",
    "    * * * \n",
    "    * * * * \n",
    "    * * * * * \n",
    "    * * * * \n",
    "    * * * \n",
    "    * * \n",
    "    *"
   ]
  },
  {
   "cell_type": "code",
   "execution_count": 35,
   "metadata": {},
   "outputs": [
    {
     "name": "stdout",
     "output_type": "stream",
     "text": [
      "\n",
      " *\n",
      " * *\n",
      " * * *\n",
      " * * * *\n",
      " * * * * *\n",
      " * * * *\n",
      " * * *\n",
      " * *\n",
      " *\n"
     ]
    }
   ],
   "source": [
    "for i in range(5):\n",
    "    print(i * ' *')\n",
    "    \n",
    "for i in range(5,0,-1):\n",
    "    print(i * ' *')"
   ]
  },
  {
   "cell_type": "code",
   "execution_count": 36,
   "metadata": {},
   "outputs": [
    {
     "name": "stdout",
     "output_type": "stream",
     "text": [
      "\n",
      "* \n",
      "* * \n",
      "* * * \n",
      "* * * * \n",
      "* * * * * \n",
      "* * * * \n",
      "* * * \n",
      "* * \n",
      "* \n"
     ]
    }
   ],
   "source": [
    "n = 5\n",
    "for i in range(n):\n",
    "    for j in range(i):\n",
    "        print('*', end =' ')\n",
    "    print('')\n",
    "\n",
    "for i in range(n,0,-1):\n",
    "    for j in range(i):\n",
    "        print('*', end=' ')\n",
    "    print('')"
   ]
  },
  {
   "cell_type": "markdown",
   "metadata": {},
   "source": [
    "## print alphabet pattern 'A'.\n",
    "\n",
    "      ***                                                                   \n",
    "     *   *                                                                  \n",
    "     *   *                                                                  \n",
    "     *****                                                                  \n",
    "     *   *                                                                  \n",
    "     *   *                                                                  \n",
    "     *   *\n"
   ]
  },
  {
   "cell_type": "code",
   "execution_count": 41,
   "metadata": {},
   "outputs": [
    {
     "name": "stdout",
     "output_type": "stream",
     "text": [
      " *** \n",
      "*   *\n",
      "*   *\n",
      "*****\n",
      "*   *\n",
      "*   *\n",
      "*   *\n"
     ]
    }
   ],
   "source": [
    "n = 7\n",
    "for i in range(n):\n",
    "    if i == 0:\n",
    "        print(' *** ')\n",
    "    elif i == 3:\n",
    "        print('*****')\n",
    "    else:\n",
    "        print('*   *')"
   ]
  },
  {
   "cell_type": "markdown",
   "metadata": {},
   "source": [
    "## print alphabet pattern D\n",
    "\n",
    "     ****                                                                   \n",
    "     *   *                                                                  \n",
    "     *   *                                                                  \n",
    "     *   *                                                                  \n",
    "     *   *                                                                  \n",
    "     *   *                                                                  \n",
    "     **** "
   ]
  },
  {
   "cell_type": "code",
   "execution_count": 67,
   "metadata": {},
   "outputs": [
    {
     "name": "stdout",
     "output_type": "stream",
     "text": [
      "****\n",
      "*    *\n",
      "*    *\n",
      "*    *\n",
      "*    *\n",
      "****\n"
     ]
    }
   ],
   "source": [
    "n = 6\n",
    "for i in range(n):\n",
    "    if (i == 0) or (i == n-1):\n",
    "        print('****')\n",
    "    else:\n",
    "        print('*    *')"
   ]
  },
  {
   "cell_type": "markdown",
   "metadata": {},
   "source": [
    "## print alphabet pattern 'E'.\n",
    "     *****                                                                  \n",
    "     *                                                                      \n",
    "     *                                                                      \n",
    "     ****                                                                   \n",
    "     *                                                                      \n",
    "     *                                                                      \n",
    "     *****"
   ]
  },
  {
   "cell_type": "code",
   "execution_count": 71,
   "metadata": {},
   "outputs": [
    {
     "name": "stdout",
     "output_type": "stream",
     "text": [
      "*****\n",
      "*\n",
      "*\n",
      "*****\n",
      "*\n",
      "*****\n"
     ]
    }
   ],
   "source": [
    "n = 6\n",
    "for i in range(n):\n",
    "    if (i == 0) or (i == 3) or (i==n-1):\n",
    "        print('*****')\n",
    "    else:\n",
    "        print('*')"
   ]
  },
  {
   "cell_type": "markdown",
   "metadata": {},
   "source": [
    "## print alphabet pattern 'G'.\n",
    "\n",
    "      ***                                                                   \n",
    "     *   *                                                                  \n",
    "     *                                                                      \n",
    "     * ***                                                                  \n",
    "     *   *                                                                  \n",
    "     *   *                                                                  \n",
    "      *** "
   ]
  },
  {
   "cell_type": "code",
   "execution_count": 72,
   "metadata": {},
   "outputs": [
    {
     "name": "stdout",
     "output_type": "stream",
     "text": [
      " *** \n",
      "*   *\n",
      "*\n",
      "* ***\n",
      "*   *\n",
      " *** \n"
     ]
    }
   ],
   "source": [
    "n = 6\n",
    "for i in range(n):\n",
    "    if (i == 0) or (i == n-1):\n",
    "        print(' *** ')\n",
    "    elif i == 3:\n",
    "        print('* ***')\n",
    "    elif i == 2:\n",
    "        print('*')\n",
    "    else:\n",
    "        print('*   *')"
   ]
  },
  {
   "cell_type": "markdown",
   "metadata": {},
   "source": [
    "### print alphabet pattern 'L'.\n",
    "     *                                                                      \n",
    "     *                                                                      \n",
    "     *                                                                      \n",
    "     *                                                                      \n",
    "     *                                                                      \n",
    "     *                                                                      \n",
    "     *****"
   ]
  },
  {
   "cell_type": "code",
   "execution_count": 73,
   "metadata": {},
   "outputs": [
    {
     "name": "stdout",
     "output_type": "stream",
     "text": [
      "*\n",
      "*\n",
      "*\n",
      "*\n",
      "*\n",
      "*****\n"
     ]
    }
   ],
   "source": [
    "n = 6\n",
    "for i in range(n):\n",
    "    if i in range(n-1):\n",
    "        print('*')\n",
    "    else:\n",
    "        print('*****')"
   ]
  },
  {
   "cell_type": "markdown",
   "metadata": {},
   "source": [
    "### print alphabet pattern 'M'.\n",
    "\n",
    "      *       *                                                             \n",
    "      *       *                                                             \n",
    "      * *   * *                                                             \n",
    "      *   *   *                                                             \n",
    "      *       *                                                             \n",
    "      *       *                                                             \n",
    "      *       *"
   ]
  },
  {
   "cell_type": "code",
   "execution_count": 89,
   "metadata": {},
   "outputs": [
    {
     "name": "stdout",
     "output_type": "stream",
     "text": [
      "*     *\n",
      "**   **\n",
      "*  *  *\n",
      "*     *\n",
      "*     *\n"
     ]
    }
   ],
   "source": [
    "n = 6\n",
    "for i in range(5):\n",
    "    if (i == 1):\n",
    "        print('**   **')\n",
    "    elif (i == 2):\n",
    "        print('*  *  *')\n",
    "    else:\n",
    "        print('*     *')"
   ]
  },
  {
   "cell_type": "code",
   "execution_count": null,
   "metadata": {},
   "outputs": [],
   "source": []
  }
 ],
 "metadata": {
  "kernelspec": {
   "display_name": "Python 3",
   "language": "python",
   "name": "python3"
  },
  "language_info": {
   "codemirror_mode": {
    "name": "ipython",
    "version": 3
   },
   "file_extension": ".py",
   "mimetype": "text/x-python",
   "name": "python",
   "nbconvert_exporter": "python",
   "pygments_lexer": "ipython3",
   "version": "3.7.6"
  }
 },
 "nbformat": 4,
 "nbformat_minor": 4
}
