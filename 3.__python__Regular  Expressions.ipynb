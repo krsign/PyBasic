{
 "cells": [
  {
   "cell_type": "code",
   "execution_count": 1,
   "metadata": {},
   "outputs": [],
   "source": [
    "import re"
   ]
  },
  {
   "cell_type": "code",
   "execution_count": 5,
   "metadata": {},
   "outputs": [
    {
     "name": "stdout",
     "output_type": "stream",
     "text": [
      "['ab', 'ab', 'ab', 'ab']\n"
     ]
    }
   ],
   "source": [
    "r = re.compile('ab')\n",
    "s = 'abcdabcdabcab'\n",
    "l = re.findall(r,s)\n",
    "print(l)"
   ]
  },
  {
   "cell_type": "code",
   "execution_count": null,
   "metadata": {},
   "outputs": [],
   "source": [
    "Metachar:\n",
    "    [a-z] : char class : 1 occurence of (a to z)\n",
    "    [0-9] : digit class: 1 occurence\n",
    "    [A-Za-z]: \n",
    "    + : atleast one occ should be there if more that fine \n",
    "    * : zero or more\n",
    "    ^ : start of the string\n",
    "    $ : end of the string\n",
    "    "
   ]
  },
  {
   "cell_type": "code",
   "execution_count": 10,
   "metadata": {},
   "outputs": [
    {
     "name": "stdout",
     "output_type": "stream",
     "text": [
      "['a', 'b', 'c', 'd']\n"
     ]
    }
   ],
   "source": [
    "r = re.compile('[a-z]')\n",
    "s = 'ABCDabcd1234'\n",
    "\n",
    "l = re.findall(r,s)\n",
    "\n",
    "print(l)"
   ]
  },
  {
   "cell_type": "code",
   "execution_count": 11,
   "metadata": {},
   "outputs": [
    {
     "name": "stdout",
     "output_type": "stream",
     "text": [
      "['1', '2', '3', '4']\n"
     ]
    }
   ],
   "source": [
    "r = re.compile('[0-9]')\n",
    "s = 'ABCDabcd1234'\n",
    "\n",
    "l = re.findall(r,s)\n",
    "\n",
    "print(l)"
   ]
  },
  {
   "cell_type": "code",
   "execution_count": 15,
   "metadata": {},
   "outputs": [
    {
     "name": "stdout",
     "output_type": "stream",
     "text": [
      "['d1']\n"
     ]
    }
   ],
   "source": [
    "# [a-z] pattern is followed by [0-9] pattern\n",
    "\n",
    "r = re.compile('[a-z][0-9]')\n",
    "s = 'ABCDabcd1234'\n",
    " \n",
    "l = re.findall(r,s)\n",
    "\n",
    "print(l)"
   ]
  },
  {
   "cell_type": "code",
   "execution_count": 16,
   "metadata": {},
   "outputs": [
    {
     "name": "stdout",
     "output_type": "stream",
     "text": [
      "[]\n"
     ]
    }
   ],
   "source": [
    "r = re.compile('[A-Z][a-z][0-9]')\n",
    "s = 'ABCDabcd1234'\n",
    " \n",
    "l = re.findall(r,s)\n",
    "\n",
    "print(l)"
   ]
  },
  {
   "cell_type": "code",
   "execution_count": 24,
   "metadata": {},
   "outputs": [
    {
     "name": "stdout",
     "output_type": "stream",
     "text": [
      "['d1', 'y3', 'x4']\n"
     ]
    }
   ],
   "source": [
    "r = re.compile('[A-Za-z][0-9]')\n",
    "s = 'ABCDabcd12y3x4'\n",
    " \n",
    "l = re.findall(r,s)\n",
    "\n",
    "print(l)"
   ]
  },
  {
   "cell_type": "code",
   "execution_count": 26,
   "metadata": {},
   "outputs": [
    {
     "name": "stdout",
     "output_type": "stream",
     "text": [
      "['d1', 'x4', ' 9']\n"
     ]
    }
   ],
   "source": [
    "# space\n",
    "r = re.compile('[A-Z a-z][0-9]')\n",
    "s = 'ABCDabcd123x4 9'\n",
    " \n",
    "l = re.findall(r,s)\n",
    "\n",
    "print(l)"
   ]
  },
  {
   "cell_type": "code",
   "execution_count": 27,
   "metadata": {},
   "outputs": [
    {
     "name": "stdout",
     "output_type": "stream",
     "text": [
      "['abcd']\n"
     ]
    }
   ],
   "source": [
    "r = re.compile('[a-z]+')\n",
    "s = 'abcd1234'\n",
    "l = re.findall(r,s)\n",
    "\n",
    "print(l)"
   ]
  },
  {
   "cell_type": "code",
   "execution_count": 31,
   "metadata": {},
   "outputs": [
    {
     "name": "stdout",
     "output_type": "stream",
     "text": [
      "['abcd1']\n"
     ]
    }
   ],
   "source": [
    "r = re.compile('[a-z]+[0-9]')\n",
    "s = 'abcd1234'\n",
    "l = re.findall(r,s)\n",
    "\n",
    "print(l)"
   ]
  },
  {
   "cell_type": "code",
   "execution_count": 35,
   "metadata": {},
   "outputs": [
    {
     "name": "stdout",
     "output_type": "stream",
     "text": [
      "['abcd1234']\n"
     ]
    }
   ],
   "source": [
    "r = re.compile('[a-z]+[0-9]+')\n",
    "s = 'abcd1234'\n",
    "l = re.findall(r,s)\n",
    "\n",
    "print(l)"
   ]
  },
  {
   "cell_type": "code",
   "execution_count": 36,
   "metadata": {},
   "outputs": [
    {
     "name": "stdout",
     "output_type": "stream",
     "text": [
      "['a2', 'bc3', 'd4']\n"
     ]
    }
   ],
   "source": [
    "r = re.compile('[a-z]+[0-9]+')\n",
    "s = '1a2bc3d4'\n",
    "l = re.findall(r,s)\n",
    "\n",
    "print(l)"
   ]
  },
  {
   "cell_type": "code",
   "execution_count": 37,
   "metadata": {},
   "outputs": [
    {
     "name": "stdout",
     "output_type": "stream",
     "text": [
      "[]\n"
     ]
    }
   ],
   "source": [
    "r = re.compile('[a-z]+[0-9]+')\n",
    "s = '1234'\n",
    "l = re.findall(r,s)\n",
    "\n",
    "print(l)"
   ]
  },
  {
   "cell_type": "code",
   "execution_count": 47,
   "metadata": {},
   "outputs": [
    {
     "name": "stdout",
     "output_type": "stream",
     "text": [
      "['1234', 'ab5678']\n",
      "['ab5678']\n"
     ]
    }
   ],
   "source": [
    "r = re.compile('[a-z]*[0-9]+')\n",
    "s = '1234ab5678'\n",
    "l = re.findall(r,s)\n",
    "\n",
    "print(l)\n",
    "# ----------------------------\n",
    "r = re.compile('[a-z]+[0-9]+')\n",
    "s = '1234ab5678'\n",
    "l = re.findall(r,s)\n",
    "\n",
    "print(l)"
   ]
  },
  {
   "cell_type": "code",
   "execution_count": 49,
   "metadata": {},
   "outputs": [
    {
     "name": "stdout",
     "output_type": "stream",
     "text": [
      "['1234']\n"
     ]
    }
   ],
   "source": [
    "# start of the string ^\n",
    "r = re.compile('^[a-z]*[0-9]+')\n",
    "s = '1234ab5678'\n",
    "l = re.findall(r,s)\n",
    "\n",
    "print(l)"
   ]
  },
  {
   "cell_type": "code",
   "execution_count": 53,
   "metadata": {},
   "outputs": [
    {
     "name": "stdout",
     "output_type": "stream",
     "text": [
      "[]\n"
     ]
    }
   ],
   "source": [
    "# end of the string ^\n",
    "r = re.compile('^[a-z]+[0-9]+')\n",
    "s = '1234ab5678'\n",
    "l = re.findall(r,s)\n",
    "\n",
    "print(l)"
   ]
  },
  {
   "cell_type": "code",
   "execution_count": null,
   "metadata": {},
   "outputs": [],
   "source": []
  },
  {
   "cell_type": "code",
   "execution_count": null,
   "metadata": {},
   "outputs": [],
   "source": []
  },
  {
   "cell_type": "code",
   "execution_count": null,
   "metadata": {},
   "outputs": [],
   "source": []
  },
  {
   "cell_type": "code",
   "execution_count": null,
   "metadata": {},
   "outputs": [],
   "source": []
  },
  {
   "cell_type": "code",
   "execution_count": null,
   "metadata": {},
   "outputs": [],
   "source": []
  },
  {
   "cell_type": "code",
   "execution_count": null,
   "metadata": {},
   "outputs": [],
   "source": []
  },
  {
   "cell_type": "code",
   "execution_count": null,
   "metadata": {},
   "outputs": [],
   "source": []
  },
  {
   "cell_type": "code",
   "execution_count": null,
   "metadata": {},
   "outputs": [],
   "source": []
  }
 ],
 "metadata": {
  "kernelspec": {
   "display_name": "Python 3",
   "language": "python",
   "name": "python3"
  },
  "language_info": {
   "codemirror_mode": {
    "name": "ipython",
    "version": 3
   },
   "file_extension": ".py",
   "mimetype": "text/x-python",
   "name": "python",
   "nbconvert_exporter": "python",
   "pygments_lexer": "ipython3",
   "version": "3.7.6"
  }
 },
 "nbformat": 4,
 "nbformat_minor": 4
}
