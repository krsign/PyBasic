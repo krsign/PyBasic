{
 "cells": [
  {
   "cell_type": "code",
   "execution_count": 2,
   "metadata": {},
   "outputs": [],
   "source": [
    "import re"
   ]
  },
  {
   "cell_type": "code",
   "execution_count": 3,
   "metadata": {},
   "outputs": [
    {
     "name": "stdout",
     "output_type": "stream",
     "text": [
      "['ab', 'ab', 'ab', 'ab']\n"
     ]
    }
   ],
   "source": [
    "r = re.compile('ab')\n",
    "s = 'abcdabcdabcab'\n",
    "l = re.findall(r,s)\n",
    "print(l)"
   ]
  },
  {
   "cell_type": "code",
   "execution_count": null,
   "metadata": {},
   "outputs": [],
   "source": [
    "\n",
    "Metachar:\n",
    "    [a-z] : char class : 1 occurence of (a to z)\n",
    "    [0-9] : digit class: 1 occurence\n",
    "    [A-Za-z]: \n",
    "    + : atleast one occ should be there if more that fine \n",
    "    * : zero or more\n",
    "    ^ : start of the string\n",
    "    $ : end of the string\n",
    "    [0-9]:{5}: restriction\n",
    "    [a-z]{2,5}: either 2 char or 5 max char\n",
    "    ? : optional"
   ]
  },
  {
   "cell_type": "code",
   "execution_count": 5,
   "metadata": {},
   "outputs": [
    {
     "name": "stdout",
     "output_type": "stream",
     "text": [
      "['a', 'b', 'c', 'd']\n"
     ]
    }
   ],
   "source": [
    "r = re.compile('[a-z]')\n",
    "s = 'ABCDabcd1234'\n",
    "\n",
    "l = re.findall(r,s)\n",
    "\n",
    "print(l)"
   ]
  },
  {
   "cell_type": "code",
   "execution_count": 6,
   "metadata": {},
   "outputs": [
    {
     "name": "stdout",
     "output_type": "stream",
     "text": [
      "['1', '2', '3', '4']\n"
     ]
    }
   ],
   "source": [
    "r = re.compile('[0-9]')\n",
    "s = 'ABCDabcd1234'\n",
    "\n",
    "l = re.findall(r,s)\n",
    "\n",
    "print(l)"
   ]
  },
  {
   "cell_type": "code",
   "execution_count": 7,
   "metadata": {},
   "outputs": [
    {
     "name": "stdout",
     "output_type": "stream",
     "text": [
      "['d1']\n"
     ]
    }
   ],
   "source": [
    "# [a-z] pattern is followed by [0-9] pattern\n",
    "\n",
    "r = re.compile('[a-z][0-9]')\n",
    "s = 'ABCDabcd1234'\n",
    " \n",
    "l = re.findall(r,s)\n",
    "\n",
    "print(l)"
   ]
  },
  {
   "cell_type": "code",
   "execution_count": 8,
   "metadata": {},
   "outputs": [
    {
     "name": "stdout",
     "output_type": "stream",
     "text": [
      "[]\n"
     ]
    }
   ],
   "source": [
    "r = re.compile('[A-Z][a-z][0-9]')\n",
    "s = 'ABCDabcd1234'\n",
    " \n",
    "l = re.findall(r,s)\n",
    "\n",
    "print(l)"
   ]
  },
  {
   "cell_type": "code",
   "execution_count": 9,
   "metadata": {},
   "outputs": [
    {
     "name": "stdout",
     "output_type": "stream",
     "text": [
      "['d1', 'y3', 'x4']\n"
     ]
    }
   ],
   "source": [
    "r = re.compile('[A-Za-z][0-9]')\n",
    "s = 'ABCDabcd12y3x4'\n",
    " \n",
    "l = re.findall(r,s)\n",
    "\n",
    "print(l)"
   ]
  },
  {
   "cell_type": "code",
   "execution_count": 10,
   "metadata": {},
   "outputs": [
    {
     "name": "stdout",
     "output_type": "stream",
     "text": [
      "['d1', 'x4', ' 9']\n"
     ]
    }
   ],
   "source": [
    "# space\n",
    "r = re.compile('[A-Z a-z][0-9]')\n",
    "s = 'ABCDabcd123x4 9'\n",
    " \n",
    "l = re.findall(r,s)\n",
    "\n",
    "print(l)"
   ]
  },
  {
   "cell_type": "code",
   "execution_count": null,
   "metadata": {},
   "outputs": [],
   "source": [
    "r = re.compile('[a-z]+')\n",
    "s = 'abcd1234'\n",
    "l = re.findall(r,s)\n",
    "\n",
    "print(l)"
   ]
  },
  {
   "cell_type": "code",
   "execution_count": 11,
   "metadata": {},
   "outputs": [
    {
     "name": "stdout",
     "output_type": "stream",
     "text": [
      "['abcd1']\n"
     ]
    }
   ],
   "source": [
    "r = re.compile('[a-z]+[0-9]')\n",
    "s = 'abcd1234'\n",
    "l = re.findall(r,s)\n",
    "\n",
    "print(l)"
   ]
  },
  {
   "cell_type": "code",
   "execution_count": 12,
   "metadata": {},
   "outputs": [
    {
     "name": "stdout",
     "output_type": "stream",
     "text": [
      "['abcd1234']\n"
     ]
    }
   ],
   "source": [
    "r = re.compile('[a-z]+[0-9]+')\n",
    "s = 'abcd1234'\n",
    "l = re.findall(r,s)\n",
    "\n",
    "print(l)"
   ]
  },
  {
   "cell_type": "code",
   "execution_count": 13,
   "metadata": {},
   "outputs": [
    {
     "name": "stdout",
     "output_type": "stream",
     "text": [
      "['a2', 'bc3', 'd4']\n"
     ]
    }
   ],
   "source": [
    "r = re.compile('[a-z]+[0-9]+')\n",
    "s = '1a2bc3d4'\n",
    "l = re.findall(r,s)\n",
    "\n",
    "print(l)"
   ]
  },
  {
   "cell_type": "code",
   "execution_count": 15,
   "metadata": {},
   "outputs": [
    {
     "name": "stdout",
     "output_type": "stream",
     "text": [
      "[]\n"
     ]
    }
   ],
   "source": [
    "r = re.compile('[a-z]+[0-9]+')\n",
    "s = '1234'\n",
    "l = re.findall(r,s)\n",
    "\n",
    "print(l)"
   ]
  },
  {
   "cell_type": "code",
   "execution_count": 16,
   "metadata": {},
   "outputs": [
    {
     "name": "stdout",
     "output_type": "stream",
     "text": [
      "['1234', 'ab5678']\n",
      "['ab5678']\n"
     ]
    }
   ],
   "source": [
    "r = re.compile('[a-z]*[0-9]+')\n",
    "s = '1234ab5678'\n",
    "l = re.findall(r,s)\n",
    "\n",
    "print(l)\n",
    "# ----------------------------\n",
    "r = re.compile('[a-z]+[0-9]+')\n",
    "s = '1234ab5678'\n",
    "l = re.findall(r,s)\n",
    "\n",
    "print(l)"
   ]
  },
  {
   "cell_type": "code",
   "execution_count": 20,
   "metadata": {},
   "outputs": [
    {
     "name": "stdout",
     "output_type": "stream",
     "text": [
      "['1234']\n"
     ]
    }
   ],
   "source": [
    "# start of the string ^\n",
    "r = re.compile('^[a-z]*[0-9]+')\n",
    "s = '1234ab5678'\n",
    "l = re.findall(r,s)\n",
    "\n",
    "print(l)"
   ]
  },
  {
   "cell_type": "code",
   "execution_count": 24,
   "metadata": {},
   "outputs": [
    {
     "name": "stdout",
     "output_type": "stream",
     "text": [
      "['abcd5678']\n"
     ]
    }
   ],
   "source": [
    "# start and end\n",
    "\n",
    "r = re.compile('^[a-z]+[0-9]+$')\n",
    "s = 'abcd5678'\n",
    "# s = 'abcd5678rs123'\n",
    "l = re.findall(r,s)\n",
    "\n",
    "print(l)"
   ]
  },
  {
   "cell_type": "code",
   "execution_count": 29,
   "metadata": {},
   "outputs": [
    {
     "name": "stdout",
     "output_type": "stream",
     "text": [
      "[]\n"
     ]
    }
   ],
   "source": [
    "r = re.compile('^[a-z]{3}[0-9]{4}$')\n",
    "# s = 'abc1234'\n",
    "s = 'ab1234'\n",
    "l = re.findall(r,s)\n",
    "\n",
    "print(l)"
   ]
  },
  {
   "cell_type": "code",
   "execution_count": null,
   "metadata": {},
   "outputs": [],
   "source": [
    "pan_no = 'ABCDE1234A'\n",
    "5 upper char\n",
    "4 digits \n",
    "1 upper char"
   ]
  },
  {
   "cell_type": "code",
   "execution_count": 43,
   "metadata": {},
   "outputs": [
    {
     "name": "stdout",
     "output_type": "stream",
     "text": [
      "['ABCDE1234X']\n"
     ]
    }
   ],
   "source": [
    "s = 'ABCDE1234X'\n",
    "# pattern = re.compile('^[A-Z]{5}[0-9]{4}[A-Z]{1}$')\n",
    "pattern = re.compile('^[A-Z]{5}[0-9]{4}[A-Z]$')\n",
    "l = re.findall(pattern,s)\n",
    "print(l)"
   ]
  },
  {
   "cell_type": "code",
   "execution_count": 53,
   "metadata": {},
   "outputs": [
    {
     "name": "stdout",
     "output_type": "stream",
     "text": [
      "ABCDE1234X\n"
     ]
    }
   ],
   "source": [
    "pan_no = 'ABCDE1234X'\n",
    "pattern = re.compile('^[A-Z]{5}[0-9]{4}[A-Z]$')\n",
    "m = re.search(pattern,pan_no)\n",
    "if m:\n",
    "    print(m.group())\n",
    "else:\n",
    "    print('Invalid Pan')"
   ]
  },
  {
   "cell_type": "code",
   "execution_count": 57,
   "metadata": {},
   "outputs": [
    {
     "name": "stdout",
     "output_type": "stream",
     "text": [
      "['python3']\n"
     ]
    }
   ],
   "source": [
    "s = 'python'\n",
    "s1 = 'python3'\n",
    "r = re.compile('python[0-9]?')\n",
    "l = re.findall(r,s)\n",
    "# l = re.findall(r,s1)\n",
    "print(l)"
   ]
  },
  {
   "cell_type": "code",
   "execution_count": 58,
   "metadata": {},
   "outputs": [
    {
     "name": "stdout",
     "output_type": "stream",
     "text": [
      "['python3']\n"
     ]
    }
   ],
   "source": [
    "s = 'python'\n",
    "s1 = 'python34'\n",
    "r = re.compile('python[0-9]+?')\n",
    "\n",
    "l = re.findall(r,s1)\n",
    "print(l)"
   ]
  },
  {
   "cell_type": "code",
   "execution_count": 70,
   "metadata": {},
   "outputs": [
    {
     "name": "stdout",
     "output_type": "stream",
     "text": [
      "6123456789\n"
     ]
    }
   ],
   "source": [
    "num = '6123456789'\n",
    "pattern = re.compile('^[6-9][0-9]{9}$')\n",
    "m = re.search(pattern, num)\n",
    "\n",
    "if m:\n",
    "    print(m.group())\n",
    "else:\n",
    "    print('Invalid Number')"
   ]
  },
  {
   "cell_type": "code",
   "execution_count": null,
   "metadata": {},
   "outputs": [],
   "source": [
    "(\\(\\+91\\))?"
   ]
  },
  {
   "cell_type": "code",
   "execution_count": 76,
   "metadata": {},
   "outputs": [
    {
     "name": "stdout",
     "output_type": "stream",
     "text": [
      "(+91)6123456789\n"
     ]
    }
   ],
   "source": [
    "num = '(+91)6123456789'\n",
    "num1 = '7123456789'\n",
    "pattern = re.compile('^(\\(\\+91\\))?[6-9][0-9]{9}$')\n",
    "m = re.search(pattern, num)\n",
    "\n",
    "if m:\n",
    "    print(m.group())\n",
    "else:\n",
    "    print('Invalid Number')"
   ]
  },
  {
   "cell_type": "code",
   "execution_count": 79,
   "metadata": {
    "scrolled": true
   },
   "outputs": [
    {
     "name": "stdout",
     "output_type": "stream",
     "text": [
      "6123456789\n"
     ]
    }
   ],
   "source": [
    "num = '(+91)6123456789'\n",
    "num1 = '7123456789'\n",
    "pattern = re.compile('^(\\(\\+91\\))?([6-9][0-9]{9})$')\n",
    "m = re.search(pattern, num)\n",
    "\n",
    "if m:\n",
    "#     print(m.group(0))\n",
    "#     print(m.group(1))\n",
    "    print(m.group(2))\n",
    "else:\n",
    "    print('Invalid Number')"
   ]
  },
  {
   "cell_type": "code",
   "execution_count": 90,
   "metadata": {},
   "outputs": [
    {
     "name": "stdout",
     "output_type": "stream",
     "text": [
      "12\n"
     ]
    }
   ],
   "source": [
    "# naming the group\n",
    "d = '28-12-2020'\n",
    "# ?P : named groups\n",
    "r = re.compile('^(?P<day>[0-9]{2})-(?P<month>[0-9]{2})-(?P<year>[0-9]{4})')\n",
    "\n",
    "m = re.search(r,d)\n",
    "if m:\n",
    "    print(m.group('month'))"
   ]
  },
  {
   "cell_type": "code",
   "execution_count": null,
   "metadata": {},
   "outputs": [],
   "source": [
    "1. write a program to validate the date part \n",
    "2. check if given email is valid pr not\n",
    "3. Url validation"
   ]
  }
 ],
 "metadata": {
  "kernelspec": {
   "display_name": "Python 3",
   "language": "python",
   "name": "python3"
  },
  "language_info": {
   "codemirror_mode": {
    "name": "ipython",
    "version": 3
   },
   "file_extension": ".py",
   "mimetype": "text/x-python",
   "name": "python",
   "nbconvert_exporter": "python",
   "pygments_lexer": "ipython3",
   "version": "3.7.6"
  }
 },
 "nbformat": 4,
 "nbformat_minor": 4
}
