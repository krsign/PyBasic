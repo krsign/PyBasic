{
 "cells": [
  {
   "cell_type": "markdown",
   "metadata": {},
   "source": [
    "# * \n",
    "       Write a Python function to create the HTML string with tags around the word(s).\n",
    "       Sample function and result : \n",
    "\n",
    "       add_tags('i', 'Python') -> '<i>Python</i>'\n",
    "\n",
    "       add_tags('b', 'Python Tutorial') -> '<b>Python Tutorial </b>'"
   ]
  },
  {
   "cell_type": "code",
   "execution_count": 1,
   "metadata": {},
   "outputs": [],
   "source": [
    "def add_tags(atr, content):\n",
    "    \n",
    "    tag = '<{}>{}</{}>'.format(atr, content, atr)\n",
    "    return tag"
   ]
  },
  {
   "cell_type": "code",
   "execution_count": 4,
   "metadata": {},
   "outputs": [
    {
     "name": "stdout",
     "output_type": "stream",
     "text": [
      "<i>Python</i>\n",
      "<b>Python Tutorial</b>\n"
     ]
    }
   ],
   "source": [
    "print(add_tags('i', 'Python'))\n",
    "print(add_tags('b', 'Python Tutorial'))"
   ]
  },
  {
   "cell_type": "markdown",
   "metadata": {},
   "source": [
    "# *\n",
    "    Write a Python function to insert a string in the middle of a string.\n",
    "    Sample function and result : \n",
    "    \n",
    "    insert_sting_middle('[[]]', 'Python') -> [['Python']]\n",
    "    insert_sting_middle('{{}}', 'PHP') -> {{PHP}}"
   ]
  },
  {
   "cell_type": "code",
   "execution_count": 5,
   "metadata": {},
   "outputs": [],
   "source": [
    "def insert_string_middle(str, word):\n",
    "    return str[:2] + word + str[2:]"
   ]
  },
  {
   "cell_type": "code",
   "execution_count": 8,
   "metadata": {},
   "outputs": [
    {
     "name": "stdout",
     "output_type": "stream",
     "text": [
      "[[Python]]\n",
      "{{PHP}}\n"
     ]
    }
   ],
   "source": [
    "print(insert_string_middle('[[]]', 'Python'))\n",
    "print(insert_string_middle('{{}}', 'PHP'))"
   ]
  },
  {
   "cell_type": "markdown",
   "metadata": {},
   "source": [
    "# *\n",
    "    Write a Python function to get a string made of 4 copies of the last two characters of a specified string           (length must be at least 2).\n",
    "    Sample function and result : \n",
    "    \n",
    "    insert_end('Python') -> onononon\n",
    "    \n",
    "    insert_end('Exercises') -> eseseses"
   ]
  },
  {
   "cell_type": "code",
   "execution_count": 18,
   "metadata": {},
   "outputs": [],
   "source": [
    "def insert_end(s):\n",
    "    if len(s) >= 2:\n",
    "        return (s[-2:]) * 4\n",
    "    else:\n",
    "        return s"
   ]
  },
  {
   "cell_type": "code",
   "execution_count": 19,
   "metadata": {},
   "outputs": [
    {
     "name": "stdout",
     "output_type": "stream",
     "text": [
      "onononon\n",
      "eseseses\n"
     ]
    }
   ],
   "source": [
    "print(insert_end('Python'))\n",
    "\n",
    "print(insert_end('Exercises'))"
   ]
  },
  {
   "cell_type": "markdown",
   "metadata": {},
   "source": [
    "# *\n",
    "    Write a Python function to reverses a string if it's length is a multiple of 4."
   ]
  },
  {
   "cell_type": "code",
   "execution_count": 20,
   "metadata": {},
   "outputs": [],
   "source": [
    "def rev(s):\n",
    "    if len(s) % 4 == 0:\n",
    "        return s[::-1]\n",
    "    else:\n",
    "        return s"
   ]
  },
  {
   "cell_type": "code",
   "execution_count": 26,
   "metadata": {},
   "outputs": [
    {
     "name": "stdout",
     "output_type": "stream",
     "text": [
      "edaM\n",
      "Python\n"
     ]
    }
   ],
   "source": [
    "print(rev('Made'))\n",
    "print(rev('Python'))"
   ]
  },
  {
   "cell_type": "markdown",
   "metadata": {},
   "source": [
    "# * \n",
    "    Write a Python program to count occurrences of a substring in a string. "
   ]
  },
  {
   "cell_type": "code",
   "execution_count": 35,
   "metadata": {},
   "outputs": [
    {
     "name": "stdout",
     "output_type": "stream",
     "text": [
      "4\n"
     ]
    }
   ],
   "source": [
    "def occurence(string, sub_string):\n",
    "    return string.count(sub_string)\n",
    "\n",
    "print(occurence('abcdaaa', 'a'))"
   ]
  },
  {
   "cell_type": "markdown",
   "metadata": {},
   "source": [
    "# * \n",
    "    Write a Python program to add 'ing' at the end of a given string (length should be at least 3). \n",
    "    If the given string already ends with 'ing' then add 'ly' instead. \n",
    "    If the string length of the given string is less than 3, leave it unchanged.\n",
    "\n",
    "    Sample String : 'abc'\n",
    "    Expected Result : 'abcing' \n",
    "    Sample String : 'string'\n",
    "    Expected Result : 'stringly'"
   ]
  },
  {
   "cell_type": "code",
   "execution_count": 3,
   "metadata": {},
   "outputs": [],
   "source": [
    "def string_op(s):\n",
    "    if len(s) >= 3 and s[-3:] == 'ing':\n",
    "        return (s + 'ly')\n",
    "    \n",
    "    elif len(s) >= 3:\n",
    "         return (s + 'ing')\n",
    "        \n",
    "    else:\n",
    "        return s"
   ]
  },
  {
   "cell_type": "code",
   "execution_count": 4,
   "metadata": {},
   "outputs": [
    {
     "name": "stdout",
     "output_type": "stream",
     "text": [
      "abcing\n",
      "stringly\n",
      "ab\n"
     ]
    }
   ],
   "source": [
    "print(string_op('abc'))\n",
    "print(string_op('string'))\n",
    "print(string_op('ab'))"
   ]
  }
 ],
 "metadata": {
  "kernelspec": {
   "display_name": "Python 3",
   "language": "python",
   "name": "python3"
  },
  "language_info": {
   "codemirror_mode": {
    "name": "ipython",
    "version": 3
   },
   "file_extension": ".py",
   "mimetype": "text/x-python",
   "name": "python",
   "nbconvert_exporter": "python",
   "pygments_lexer": "ipython3",
   "version": "3.7.6"
  }
 },
 "nbformat": 4,
 "nbformat_minor": 4
}
